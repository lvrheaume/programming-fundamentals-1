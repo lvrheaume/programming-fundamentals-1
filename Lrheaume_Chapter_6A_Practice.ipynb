{
  "nbformat": 4,
  "nbformat_minor": 0,
  "metadata": {
    "colab": {
      "provenance": [],
      "include_colab_link": true
    },
    "kernelspec": {
      "name": "python3",
      "display_name": "Python 3"
    },
    "language_info": {
      "name": "python"
    }
  },
  "cells": [
    {
      "cell_type": "markdown",
      "metadata": {
        "id": "view-in-github",
        "colab_type": "text"
      },
      "source": [
        "<a href=\"https://colab.research.google.com/github/lvrheaume/programming-fundamentals-1/blob/main/Lrheaume_Chapter_6A_Practice.ipynb\" target=\"_parent\"><img src=\"https://colab.research.google.com/assets/colab-badge.svg\" alt=\"Open In Colab\"/></a>"
      ]
    },
    {
      "cell_type": "markdown",
      "source": [
        "# First:\n",
        "1. Log in with your ACC Google account\n",
        "2. Use the **File > Save a Copy in Drive** menu option in the top left to make a copy of this notebook that you can edit."
      ],
      "metadata": {
        "id": "ykQz4xHrTbcg"
      }
    },
    {
      "cell_type": "markdown",
      "source": [
        "# Part 1\n",
        "Write numbers to a file:\n",
        "\n",
        "1. Open an output file with the filename number_list.txt\n",
        "2. Use a loop to write the numbers 50 through 100 to the file, and then close the file. Be sure to save your file to use in the next parts."
      ],
      "metadata": {
        "id": "1MYHqF1uS1NF"
      }
    },
    {
      "cell_type": "code",
      "execution_count": 22,
      "metadata": {
        "id": "NWzkKAtDSqz7",
        "colab": {
          "base_uri": "https://localhost:8080/"
        },
        "collapsed": true,
        "outputId": "cc647cc3-bbfe-4654-99c0-8647815c05f1"
      },
      "outputs": [
        {
          "output_type": "stream",
          "name": "stdout",
          "text": [
            "number_list placeholder\n"
          ]
        }
      ],
      "source": [
        "# prompt: Use a loop to write the numbers 50 through 100 to the file, and then close the file.\n",
        "\n",
        "with open('number_list.txt', 'w') as f:\n",
        "  for i in range(50, 101):\n",
        "    f.write(str(i) + '\\n')\n",
        "  print('number_list placeholder')\n",
        "\n",
        "def number_list():\n",
        "  f = open('number_list.txt', 'w')\n",
        "  for num in range(50, 101):\n",
        "    print(\"number_list placeholder\")\n",
        "\n",
        "\n",
        "\n"
      ]
    },
    {
      "cell_type": "markdown",
      "source": [
        "# Part 2\n",
        "\n",
        "\n",
        "Read numbers from a file:\n",
        "1. Open the file you just created.\n",
        "2. Read all the numbers from the file and display them.\n",
        "Terminate the loop by detecting end of file with a for loop (not a while loop). See Program 6-10 for an example.  "
      ],
      "metadata": {
        "id": "DbdKNL5RTJo8"
      }
    },
    {
      "cell_type": "code",
      "source": [
        "# Write your code here\n",
        "import random\n",
        "import math\n",
        "import numpy as np\n",
        "\n",
        "# Open the file\n",
        "def number_list():\n",
        "  f = open('number_list.txt', 'r')\n",
        "for num in range(50, 101):\n",
        "    print(\"\", random.randint(50, 101))\n",
        "    f.close()\n",
        "\n"
      ],
      "metadata": {
        "id": "tHn8DeDbTW4l",
        "colab": {
          "base_uri": "https://localhost:8080/"
        },
        "outputId": "d9754a4e-63ab-4aa2-e001-89c6e912309c"
      },
      "execution_count": 37,
      "outputs": [
        {
          "output_type": "stream",
          "name": "stdout",
          "text": [
            " 91\n",
            " 62\n",
            " 82\n",
            " 65\n",
            " 51\n",
            " 79\n",
            " 82\n",
            " 74\n",
            " 94\n",
            " 62\n",
            " 99\n",
            " 73\n",
            " 87\n",
            " 65\n",
            " 55\n",
            " 88\n",
            " 79\n",
            " 101\n",
            " 63\n",
            " 72\n",
            " 93\n",
            " 61\n",
            " 94\n",
            " 53\n",
            " 58\n",
            " 89\n",
            " 78\n",
            " 82\n",
            " 63\n",
            " 51\n",
            " 100\n",
            " 94\n",
            " 100\n",
            " 62\n",
            " 88\n",
            " 68\n",
            " 79\n",
            " 86\n",
            " 95\n",
            " 80\n",
            " 87\n",
            " 81\n",
            " 69\n",
            " 82\n",
            " 50\n",
            " 93\n",
            " 88\n",
            " 67\n",
            " 61\n",
            " 69\n",
            " 91\n"
          ]
        }
      ]
    },
    {
      "cell_type": "markdown",
      "source": [
        "# Part 3\n",
        "\n",
        "\n",
        "Read numbers from a file (with a twist):\n",
        "1. Open the file you just created.\n",
        "2. Read all the numbers from the file, multiply them by two, and display the doubled values.\n",
        "Terminate the loop by detecting end of file with a while loop (not a for loop). See Program 6-9 for an example.  "
      ],
      "metadata": {
        "id": "QjCRo4gYr6be"
      }
    },
    {
      "cell_type": "code",
      "source": [
        "# Write your code here\n",
        "\n",
        "#importing the libraries to work with numbers\n",
        "import random\n",
        "import math\n",
        "import numpy as np\n",
        "\n",
        "# Opening the file\n",
        "def number_list():\n",
        "  f = open('number_list.txt', 'r')\n",
        "for num in range(50, 101):\n",
        "    print(\"\", random.randint(50, 101))\n",
        "#print(\"The list of 50 numbers, randomized.\")\n",
        "    f.close()\n",
        "\n",
        "# Function 1 = taking the random numbers and printing them\n",
        "def number_list():\n",
        "  f = open('number_list.txt', 'r')\n",
        "for num in range(50, 101):\n",
        "    f.close()\n",
        "\n",
        "# Function 2 = taking the random numbers and multiplying by 2\n",
        "def number_list():\n",
        "  f = open('number_list.txt', 'r')\n",
        "for num in range(50, 101):\n",
        "    print(\"\", random.randint(50, 101) * 2)\n",
        "    f.close()\n",
        "\n",
        "#print_function = number_list()\n",
        "#print(\"these are random numbers, multiplied by 2!\")\n",
        "\n",
        "def main():\n",
        "    print_function = number_list()\n",
        "    print(\"these are random numbers, multiplied by 2!\")\n",
        "\n",
        "if __name__ == \"__main__\":\n",
        "    main()\n",
        "\n"
      ],
      "metadata": {
        "id": "uXgajV_ssGN9",
        "colab": {
          "base_uri": "https://localhost:8080/"
        },
        "outputId": "7201a9c2-f989-4141-f3b3-fecae3c95ff3"
      },
      "execution_count": 53,
      "outputs": [
        {
          "output_type": "stream",
          "name": "stdout",
          "text": [
            " 100\n",
            " 95\n",
            " 65\n",
            " 72\n",
            " 100\n",
            " 93\n",
            " 84\n",
            " 101\n",
            " 101\n",
            " 78\n",
            " 85\n",
            " 89\n",
            " 60\n",
            " 98\n",
            " 77\n",
            " 53\n",
            " 56\n",
            " 83\n",
            " 50\n",
            " 55\n",
            " 74\n",
            " 54\n",
            " 54\n",
            " 54\n",
            " 60\n",
            " 90\n",
            " 70\n",
            " 60\n",
            " 89\n",
            " 79\n",
            " 87\n",
            " 60\n",
            " 79\n",
            " 96\n",
            " 70\n",
            " 95\n",
            " 58\n",
            " 95\n",
            " 53\n",
            " 92\n",
            " 85\n",
            " 93\n",
            " 90\n",
            " 80\n",
            " 61\n",
            " 96\n",
            " 94\n",
            " 55\n",
            " 86\n",
            " 54\n",
            " 98\n",
            " 196\n",
            " 200\n",
            " 156\n",
            " 106\n",
            " 130\n",
            " 160\n",
            " 176\n",
            " 100\n",
            " 200\n",
            " 116\n",
            " 164\n",
            " 196\n",
            " 196\n",
            " 192\n",
            " 110\n",
            " 142\n",
            " 164\n",
            " 166\n",
            " 154\n",
            " 110\n",
            " 178\n",
            " 100\n",
            " 168\n",
            " 142\n",
            " 156\n",
            " 154\n",
            " 120\n",
            " 136\n",
            " 180\n",
            " 162\n",
            " 128\n",
            " 130\n",
            " 190\n",
            " 164\n",
            " 190\n",
            " 160\n",
            " 134\n",
            " 118\n",
            " 160\n",
            " 164\n",
            " 180\n",
            " 174\n",
            " 128\n",
            " 110\n",
            " 112\n",
            " 116\n",
            " 124\n",
            " 106\n",
            " 118\n",
            " 110\n",
            " 154\n",
            "these are random numbers, multiplied by 2!\n"
          ]
        }
      ]
    },
    {
      "cell_type": "markdown",
      "source": [
        "# Submission\n",
        "\n",
        "#### When you're done, you can download and submit:\n",
        "1. Click the \"File\" menu in the top left,\n",
        "2. Towards the bottom of the menu, press Download > Download .py\n",
        "3. Submit your .py file\n",
        "\n",
        "#### Or submit a link to your notebook:\n",
        "1. Click the \"Share\" button in the top right,\n",
        "2. Allow access to \"Anyone With The Link\"\n",
        "3. Copy the link into the submission page on Blackboard"
      ],
      "metadata": {
        "id": "mN-3r4UZTWYJ"
      }
    }
  ]
}