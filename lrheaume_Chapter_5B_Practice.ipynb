{
  "nbformat": 4,
  "nbformat_minor": 0,
  "metadata": {
    "colab": {
      "provenance": [],
      "include_colab_link": true
    },
    "kernelspec": {
      "name": "python3",
      "display_name": "Python 3"
    },
    "language_info": {
      "name": "python"
    }
  },
  "cells": [
    {
      "cell_type": "markdown",
      "metadata": {
        "id": "view-in-github",
        "colab_type": "text"
      },
      "source": [
        "<a href=\"https://colab.research.google.com/github/lvrheaume/programming-fundamentals-1/blob/main/lrheaume_Chapter_5B_Practice.ipynb\" target=\"_parent\"><img src=\"https://colab.research.google.com/assets/colab-badge.svg\" alt=\"Open In Colab\"/></a>"
      ]
    },
    {
      "cell_type": "markdown",
      "source": [
        "# First:\n",
        "1. Log in with your ACC Google account\n",
        "2. Use the **File > Save a Copy in Drive** menu option in the top left to make a copy of this notebook that you can edit."
      ],
      "metadata": {
        "id": "ykQz4xHrTbcg"
      }
    },
    {
      "cell_type": "markdown",
      "source": [
        "# Part 1\n",
        "\n",
        "Write a program to generate a random floating point number between 1 and 100 which will be used as the radius of a circle. In a separate function, calculate the area of a circle based on the radius your program just generated and return it to the main function. In the main function, display the radius and the area."
      ],
      "metadata": {
        "id": "1MYHqF1uS1NF"
      }
    },
    {
      "cell_type": "code",
      "execution_count": null,
      "metadata": {
        "id": "NWzkKAtDSqz7",
        "colab": {
          "base_uri": "https://localhost:8080/"
        },
        "outputId": "8a9c950e-a121-4e2f-92ab-7f06e1916961"
      },
      "outputs": [
        {
          "output_type": "stream",
          "name": "stdout",
          "text": [
            "the randomized float number is: 32.72811924823766\n"
          ]
        }
      ],
      "source": [
        "# Write your code here\n",
        "from __future__ import print_function\n",
        "import random\n",
        "import math\n",
        "import numpy\n",
        "import matplotlib\n",
        "import pandas\n",
        "import seaborn\n",
        "\n",
        "rand_float_number = random.uniform(1, 100)\n",
        "print(f'the randomized float number is:',(rand_float_number))"
      ]
    },
    {
      "cell_type": "markdown",
      "source": [
        "# Part 2\n",
        "Write a program that will calculate the area and perimeter of a square based on a randomly generated integer to be used as the side.\n",
        "\n",
        "Write the main function which will:\n",
        "1. Generate a random integer between 1 and 100 which will be the side of the square\n",
        "2. Pass that number to called functions called square_area and square_perimeter.\n",
        "3. Display the side, the returned area, and the returned perimeter.\n",
        "\n",
        "Next, we'll make a Python module. This is a good way to organize your code to make convenient, reusable functions that are portable.\n",
        "1. Click the file folder icon in the left sidebar, then right click in the blank area of the Files Window that just opened and make a new file. Name it `square.py`. If you're not seeing this option, make sure you're connected to a runtime in the top right corner.\n",
        "2. Define a function called square_area which will accept the side length, calculate the square area, and returns the square area.\n",
        "3. Define a function called square_perimeter which will accept the side length as an argument, calculate the square perimeter, and return the square perimeter.\n",
        "\n",
        "If you are updating `square.py` but not seeing it update in your main code, try to click the Runtime > Restart Session to have Colab re-import your module.\n",
        "\n",
        "I made a quick tutorial about this since these are new topics. Try it once or twice on your own, but if you get stuck you can see the tutorial [here](https://drive.google.com/file/d/10P3fbEXdNgZG8wFgEUfR6uXHIWTq48eo/view?usp=drive_link).\n",
        "\n",
        "Turn in both .py files to Blackboard:\n",
        "1. your usual File > Download.py  \n",
        "2. the square.py file you made"
      ],
      "metadata": {
        "id": "DbdKNL5RTJo8"
      }
    },
    {
      "cell_type": "code",
      "source": [
        "from __future__ import print_function\n",
        "#om square import square_area, square_perimeter # <-- check out how I did this! Important to know\n",
        "import random\n",
        "import math\n",
        "import numpy\n",
        "import matplotlib\n",
        "import pandas\n",
        "import seaborn\n",
        "\n",
        "# write your code here\n",
        "def main():\n",
        "# Define a function to calculate the area of a circle\n",
        "  def circle_area(radius):\n",
        "    return math.pi * radius ** 2\n",
        "# First main function to generate random radius and calculate area\n",
        "  def main_circle():\n",
        "\n",
        "# Generate a random floating point number between 1 and 100\n",
        "    radius = random.uniform(1, 100)\n",
        "print(radius)\n",
        "\n",
        "#calculate the area of the circle\n",
        "area = circle_area(radius)\n",
        "print(\"The radius of the random circle is:\")\n",
        "# Display the radius and the area\n",
        "\n",
        "print(f\"radius:{radius}\")\n",
        "print(f\"Area: {area}\")\n",
        "\n",
        "\n",
        "# Second main function for square calculations (this was the original main function causing errors)\n",
        "def main_square():\n",
        "# Generate a random integer between 1 and 100\n",
        "\n",
        "# Call square_area and square_perimeter functions (assuming they are defined in square.py)\n",
        "#area = square_area(side)\n",
        "#perimeter = square_perimeter(side)\n",
        "# Display the side, area, and perimeter\n",
        "  square = math.sqrt(4)\n",
        "  side = random.randint(1, 100)\n",
        "  perimeter = 4 * side\n",
        "  #print(side)\n",
        "  square_area = side ** 2\n",
        "  perimeter = 4 * side\n",
        "  print(f\"Side: {side}\")\n",
        "  print(f\"Area: {area}\")\n",
        "  print(f\"Perimeter: {perimeter}\")\n",
        "  return side, area, perimeter\n",
        "#(these are suggested that autopopulate, unclear if they're used for the solution)\n",
        "\n",
        "#( I tried to get fancy here, but I dont actually know what I wrote. It's pseudocode for...something? I would love to know if it was going to to do anything with a few changes. )\n",
        "  def rand_float_number():\n",
        "      print(f\"Side: {side}\")\n",
        "      print(f\"Area: {area}\")\n",
        "      print(f\"Perimeter: {perimeter}\")\n",
        "      if bool == float( 100, 1, 99):\n",
        "        print(True)\n",
        "      else:\n",
        "        print(False)\n",
        "\n",
        "# Another thing to note: here's how main functions are made\n",
        "# This is the function that Python will run automatically when you press play\n",
        "if __name__ == \"__main__\":\n",
        "  print(\"The random square is:\")\n",
        "  print_function = main_square()\n",
        "  rand_float_number = (f'rand_float_number', (float))"
      ],
      "metadata": {
        "id": "tHn8DeDbTW4l",
        "colab": {
          "base_uri": "https://localhost:8080/"
        },
        "outputId": "6c5475cf-d60a-4f02-a21f-1fdbba61eef8"
      },
      "execution_count": null,
      "outputs": [
        {
          "output_type": "stream",
          "name": "stdout",
          "text": [
            "4.775472148689559\n",
            "The radius of the random circle is:\n",
            "radius:4.775472148689559\n",
            "Area: 71.64444220165406\n",
            "The random square is:\n",
            "Side: 81\n",
            "Area: 71.64444220165406\n",
            "Perimeter: 324\n"
          ]
        }
      ]
    },
    {
      "cell_type": "markdown",
      "source": [
        "# Submission\n",
        "\n",
        "#### When you're done, you can download and submit:\n",
        "1. Click the \"File\" menu in the top left,\n",
        "2. Towards the bottom of the menu, press Download > Download .py\n",
        "3. Submit your .py files\n",
        "\n",
        "#### Or submit a link to your notebook:\n",
        "1. Click the \"Share\" button in the top right,\n",
        "2. Allow access to \"Anyone With The Link\"\n",
        "3. Copy the link into the submission page on Blackboard"
      ],
      "metadata": {
        "id": "mN-3r4UZTWYJ"
      }
    }
  ]
}