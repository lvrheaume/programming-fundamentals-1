{
  "nbformat": 4,
  "nbformat_minor": 0,
  "metadata": {
    "colab": {
      "provenance": [],
      "include_colab_link": true
    },
    "kernelspec": {
      "name": "python3",
      "display_name": "Python 3"
    },
    "language_info": {
      "name": "python"
    }
  },
  "cells": [
    {
      "cell_type": "markdown",
      "metadata": {
        "id": "view-in-github",
        "colab_type": "text"
      },
      "source": [
        "<a href=\"https://colab.research.google.com/github/lvrheaume/programming-fundamentals-1/blob/main/LRheaume_Chapter_6B_Practice.ipynb\" target=\"_parent\"><img src=\"https://colab.research.google.com/assets/colab-badge.svg\" alt=\"Open In Colab\"/></a>"
      ]
    },
    {
      "cell_type": "markdown",
      "source": [
        "# First:\n",
        "1. Log in with your ACC Google account\n",
        "2. Use the **File > Save a Copy in Drive** menu option in the top left to make a copy of this notebook that you can edit."
      ],
      "metadata": {
        "id": "ykQz4xHrTbcg"
      }
    },
    {
      "cell_type": "markdown",
      "source": [
        "# Part 1\n",
        "\n",
        "1. Write a program that uses the file `students.txt`. The file contains several records. Each record contains two\n",
        "fields: 1) the student's name and 2) the student's score for the final exam.\n",
        "2. Your program should read in each record in `students.txt` using a loop.\n",
        "3. While in the loop, the program should display name and score\n",
        "4. Sample output:\n",
        "\n",
        "```\n",
        "Name Score\n",
        "--------------------------------\n",
        "Jim Smith 99.0\n",
        "Mario Alvarez 100.0\n",
        "Mary Maldonado 89.0\n",
        "Bess Robinson 77.0\n",
        "Eddie Nguyen 87.0\n",
        "```\n"
      ],
      "metadata": {
        "id": "1MYHqF1uS1NF"
      }
    },
    {
      "cell_type": "code",
      "execution_count": 142,
      "metadata": {
        "id": "NWzkKAtDSqz7",
        "colab": {
          "base_uri": "https://localhost:8080/"
        },
        "outputId": "4b2b02e1-caed-405e-fa6b-95ee2d6c8607"
      },
      "outputs": [
        {
          "output_type": "stream",
          "name": "stdout",
          "text": [
            "Jim Smith 99.0\n",
            "Mario Alvarez 100.0\n",
            "Mary Maldonado 89.0\n",
            "Bess Robinson 77.0\n",
            "\n",
            "Students' scores on the exam:\n",
            "\n",
            "Jim Smith 99.0\n",
            "Mario Alvarez 100.0\n",
            "Mary Maldonado 89.0\n",
            "Bess Robinson 77.0\n",
            "Eddie Nguyen 87.0\n",
            "\n"
          ]
        }
      ],
      "source": [
        "# Write your code here\n",
        "import os\n",
        "os.remove(\"students.txt\")\n",
        "import numpy as np\n",
        "import random\n",
        "\n",
        "#create the file\n",
        "f = open(\"students.txt\", \"a\")\n",
        "f.write(\"Jim Smith 99.0\\n\")\n",
        "f.write(\"Mario Alvarez 100.0\\n\")\n",
        "f.write(\"Mary Maldonado 89.0\\n\")\n",
        "f.write(\"Bess Robinson 77.0\\n\")\n",
        "f.close()\n",
        "\n",
        "#open and read the file after the appending:\n",
        "f = open(\"students.txt\", \"r\")\n",
        "print(f.read())\n",
        "\n",
        "#appending the file\n",
        "append = open(\"students.txt\", \"a\")\n",
        "append.write(\"Eddie Nguyen 87.0\\n\")\n",
        "append.close()\n",
        "\n",
        "#open and read the file after the appending:\n",
        "f = open(\"students.txt\", \"r\")\n",
        "print(\"Students' scores on the exam:\\n\")\n",
        "print(f.read())\n"
      ]
    },
    {
      "source": [
        "# Write your code here\n",
        "import os\n",
        "os.remove(\"students.txt\")\n",
        "import numpy as np\n",
        "import random\n",
        "\n",
        "#create the file\n",
        "f = open(\"students.txt\", \"a\")\n",
        "print(\"Students' scores on the exam:\\n\")\n",
        "f.write(\"Jim Smith 99.0\\n\")\n",
        "f.write(\"Mario Alvarez 100.0\\n\")\n",
        "f.write(\"Mary Maldonado 89.0\\n\")\n",
        "f.write(\"Bess Robinson 77.0\\n\")\n",
        "f.close()\n",
        "\n",
        "#open and read the file after the appending:\n",
        "f = open(\"students.txt\", \"r\")\n",
        "print(f.read())\n",
        "print(\"Students' updated scores:\\n\")\n",
        "#appending the file\n",
        "append = open(\"students.txt\", \"a\")\n",
        "append.write(\"Eddie Nguyen 87.0\\n\")\n",
        "append.close()\n",
        "\n",
        "#open and read the file after the appending:\n",
        "f = open(\"students.txt\", \"r\") # Changed this line to open in read mode \"r\"\n",
        "print(f.read()) # Changed this line to print the content of the file\n",
        "print(\"Students' final scores on the exam:\\n\")"
      ],
      "cell_type": "code",
      "metadata": {
        "id": "LyAkPtu_tN-4"
      },
      "execution_count": null,
      "outputs": []
    },
    {
      "cell_type": "markdown",
      "source": [
        "# Part 2\n",
        "\n",
        "This question builds on your work from Practice 6A. You can reuse your code from before, if it worked.\n",
        "\n",
        "This program uses the file you created in 6A, Part 1 called `number_list.txt` (it just contains the numbers 50 through 100). You can upload a file using the folder icon on the left 📁.\n",
        "\n",
        "1. Your program should read in `number_list.txt` and calculate the sum and average of all the numbers and display the sum and the average.\n",
        "2. Additionally, it should:\n",
        "- Handle any IOError exceptions that are raised when the file is opened and\n",
        "data is read from it\n",
        "- Handle any ValueError exceptions that are raised when the items read are\n",
        "converted to numbers\n",
        "- Handle any other unspecified errors"
      ],
      "metadata": {
        "id": "DbdKNL5RTJo8"
      }
    },
    {
      "cell_type": "code",
      "source": [
        "# Write your code here\n",
        "import random\n",
        "import numpy as np\n",
        "import math\n",
        "\n",
        "#def main():\n",
        "with open('number list 2.txt', 'r') as f:\n",
        "  # Define f within the loop's scope\n",
        "    for num in range(50, 101):\n",
        "        print(\"\", random.randint(50, 101))\n",
        "        f.close()\n",
        "\n",
        "# this is the part that multiplies by 2\n",
        "with open('number list 2.txt', 'r') as f:\n",
        "  def number_list():\n",
        "    pass\n",
        "for num in range(50, 101):\n",
        "    print(\"\", random.randint(50, 101) * 2)\n",
        "    f.close()\n",
        "\n",
        "#print_function = number_list()\n",
        "print(\"these are random numbers, multiplied by 2!\")\n"
      ],
      "metadata": {
        "id": "tHn8DeDbTW4l"
      },
      "execution_count": null,
      "outputs": []
    },
    {
      "cell_type": "code",
      "source": [
        "import os\n",
        "import random\n",
        "import numpy as np\n",
        "import math\n",
        "\n",
        "with open('number list 2.txt', 'r') as f:\n",
        "  # Define f within the loop's scope\n",
        "    for num in range(50, 101):\n",
        "        print(\"\", random.randint(50, 101))\n",
        "        f\n",
        "        f.close()\n",
        "\n",
        "def number_list():\n",
        "  pass\n",
        "for num in range(50, 101):\n",
        "    print(\"\", random.randint(50, 101) * 2)\n",
        "    f.close()\n",
        "\n",
        "#calling random numbers * 2\n",
        "print(\"these are random numbers, multiplied by 2!\")\n",
        "f.close()\n",
        "\n",
        "# Your program should read in number_list.txt and calculate the sum and average\n",
        "# of all the numbers and display the sum and the average.\n"
      ],
      "metadata": {
        "id": "aXYgHZ46vWDl"
      },
      "execution_count": null,
      "outputs": []
    },
    {
      "cell_type": "code",
      "source": [
        "from pdb import main\n",
        "from typing import TYPE_CHECKING\n",
        "with open('number list 2.txt', 'r') as f:\n",
        "    numbers = f.read().splitlines()\n",
        "    numbers = [int(num) for num in numbers]\n",
        "    sum_of_numbers = sum(numbers)\n",
        "    average_of_numbers = sum_of_numbers / len(numbers)\n",
        "    print(\"Sum of numbers:\", sum_of_numbers)\n",
        "    print(\"Average of numbers:\", average_of_numbers)\n",
        "    f.close()\n",
        "    while True:\n",
        "        try:\n",
        "            with open('number list 2.txt', 'r') as f:\n",
        "                numbers = f.read().splitlines()\n",
        "                numbers = [int(num) for num in numbers]\n",
        "                sum_of_numbers = sum(numbers)\n",
        "                average_of_numbers = sum_of_numbers / len(numbers)\n",
        "                print(\"Sum of numbers:\", sum_of_numbers)\n",
        "                print(\"Average of numbers:\", average_of_numbers)\n",
        "                f.close()\n",
        "                break\n",
        "        except FileNotFoundError:\n",
        "            print(\"File not found. Please try again.\")\n",
        "        except ValueError:\n",
        "            print(\"Invalid data in the file. Please try again.\")\n",
        "            f.close()\n",
        "        except Exception as e:\n",
        "            print(\"An unexpected error occurred:\", e)\n",
        "            f.close()\n",
        "main()\n",
        "__init__"
      ],
      "metadata": {
        "colab": {
          "base_uri": "https://localhost:8080/",
          "height": 351
        },
        "id": "iPoRLxXP-My1",
        "outputId": "dc0513b8-81d8-4621-834f-327f51532c4a"
      },
      "execution_count": 159,
      "outputs": [
        {
          "output_type": "error",
          "ename": "ValueError",
          "evalue": "invalid literal for int() with base 10: ' 65Jim Smith 99.0'",
          "traceback": [
            "\u001b[0;31m---------------------------------------------------------------------------\u001b[0m",
            "\u001b[0;31mValueError\u001b[0m                                Traceback (most recent call last)",
            "\u001b[0;32m<ipython-input-159-c6ba388f8d5d>\u001b[0m in \u001b[0;36m<cell line: 0>\u001b[0;34m()\u001b[0m\n\u001b[1;32m      3\u001b[0m \u001b[0;32mwith\u001b[0m \u001b[0mopen\u001b[0m\u001b[0;34m(\u001b[0m\u001b[0;34m'number list 2.txt'\u001b[0m\u001b[0;34m,\u001b[0m \u001b[0;34m'r'\u001b[0m\u001b[0;34m)\u001b[0m \u001b[0;32mas\u001b[0m \u001b[0mf\u001b[0m\u001b[0;34m:\u001b[0m\u001b[0;34m\u001b[0m\u001b[0;34m\u001b[0m\u001b[0m\n\u001b[1;32m      4\u001b[0m     \u001b[0mnumbers\u001b[0m \u001b[0;34m=\u001b[0m \u001b[0mf\u001b[0m\u001b[0;34m.\u001b[0m\u001b[0mread\u001b[0m\u001b[0;34m(\u001b[0m\u001b[0;34m)\u001b[0m\u001b[0;34m.\u001b[0m\u001b[0msplitlines\u001b[0m\u001b[0;34m(\u001b[0m\u001b[0;34m)\u001b[0m\u001b[0;34m\u001b[0m\u001b[0;34m\u001b[0m\u001b[0m\n\u001b[0;32m----> 5\u001b[0;31m     \u001b[0mnumbers\u001b[0m \u001b[0;34m=\u001b[0m \u001b[0;34m[\u001b[0m\u001b[0mint\u001b[0m\u001b[0;34m(\u001b[0m\u001b[0mnum\u001b[0m\u001b[0;34m)\u001b[0m \u001b[0;32mfor\u001b[0m \u001b[0mnum\u001b[0m \u001b[0;32min\u001b[0m \u001b[0mnumbers\u001b[0m\u001b[0;34m]\u001b[0m\u001b[0;34m\u001b[0m\u001b[0;34m\u001b[0m\u001b[0m\n\u001b[0m\u001b[1;32m      6\u001b[0m     \u001b[0msum_of_numbers\u001b[0m \u001b[0;34m=\u001b[0m \u001b[0msum\u001b[0m\u001b[0;34m(\u001b[0m\u001b[0mnumbers\u001b[0m\u001b[0;34m)\u001b[0m\u001b[0;34m\u001b[0m\u001b[0;34m\u001b[0m\u001b[0m\n\u001b[1;32m      7\u001b[0m     \u001b[0maverage_of_numbers\u001b[0m \u001b[0;34m=\u001b[0m \u001b[0msum_of_numbers\u001b[0m \u001b[0;34m/\u001b[0m \u001b[0mlen\u001b[0m\u001b[0;34m(\u001b[0m\u001b[0mnumbers\u001b[0m\u001b[0;34m)\u001b[0m\u001b[0;34m\u001b[0m\u001b[0;34m\u001b[0m\u001b[0m\n",
            "\u001b[0;32m<ipython-input-159-c6ba388f8d5d>\u001b[0m in \u001b[0;36m<listcomp>\u001b[0;34m(.0)\u001b[0m\n\u001b[1;32m      3\u001b[0m \u001b[0;32mwith\u001b[0m \u001b[0mopen\u001b[0m\u001b[0;34m(\u001b[0m\u001b[0;34m'number list 2.txt'\u001b[0m\u001b[0;34m,\u001b[0m \u001b[0;34m'r'\u001b[0m\u001b[0;34m)\u001b[0m \u001b[0;32mas\u001b[0m \u001b[0mf\u001b[0m\u001b[0;34m:\u001b[0m\u001b[0;34m\u001b[0m\u001b[0;34m\u001b[0m\u001b[0m\n\u001b[1;32m      4\u001b[0m     \u001b[0mnumbers\u001b[0m \u001b[0;34m=\u001b[0m \u001b[0mf\u001b[0m\u001b[0;34m.\u001b[0m\u001b[0mread\u001b[0m\u001b[0;34m(\u001b[0m\u001b[0;34m)\u001b[0m\u001b[0;34m.\u001b[0m\u001b[0msplitlines\u001b[0m\u001b[0;34m(\u001b[0m\u001b[0;34m)\u001b[0m\u001b[0;34m\u001b[0m\u001b[0;34m\u001b[0m\u001b[0m\n\u001b[0;32m----> 5\u001b[0;31m     \u001b[0mnumbers\u001b[0m \u001b[0;34m=\u001b[0m \u001b[0;34m[\u001b[0m\u001b[0mint\u001b[0m\u001b[0;34m(\u001b[0m\u001b[0mnum\u001b[0m\u001b[0;34m)\u001b[0m \u001b[0;32mfor\u001b[0m \u001b[0mnum\u001b[0m \u001b[0;32min\u001b[0m \u001b[0mnumbers\u001b[0m\u001b[0;34m]\u001b[0m\u001b[0;34m\u001b[0m\u001b[0;34m\u001b[0m\u001b[0m\n\u001b[0m\u001b[1;32m      6\u001b[0m     \u001b[0msum_of_numbers\u001b[0m \u001b[0;34m=\u001b[0m \u001b[0msum\u001b[0m\u001b[0;34m(\u001b[0m\u001b[0mnumbers\u001b[0m\u001b[0;34m)\u001b[0m\u001b[0;34m\u001b[0m\u001b[0;34m\u001b[0m\u001b[0m\n\u001b[1;32m      7\u001b[0m     \u001b[0maverage_of_numbers\u001b[0m \u001b[0;34m=\u001b[0m \u001b[0msum_of_numbers\u001b[0m \u001b[0;34m/\u001b[0m \u001b[0mlen\u001b[0m\u001b[0;34m(\u001b[0m\u001b[0mnumbers\u001b[0m\u001b[0;34m)\u001b[0m\u001b[0;34m\u001b[0m\u001b[0;34m\u001b[0m\u001b[0m\n",
            "\u001b[0;31mValueError\u001b[0m: invalid literal for int() with base 10: ' 65Jim Smith 99.0'"
          ]
        }
      ]
    },
    {
      "source": [
        "with open('number_list_2.txt', 'w') as f: # Open the file in write mode to clear previous content\n",
        "    for num in range(50, 101):\n",
        "        f.write(str(num) + '\\n') # Write each number to a new line\n",
        "\n",
        "with open('number_list_2.txt', 'r') as f:\n",
        "    numbers = f.read().splitlines()\n",
        "    numbers = [int(num) for num in numbers] # Convert each line to an integer\n",
        "    sum_of_numbers = sum(numbers)\n",
        "    average_of_numbers = sum_of_numbers / len(numbers)\n",
        "    print(\"Sum of numbers:\", sum_of_numbers)\n",
        "    print(\"Average of numbers:\", average_of_numbers)"
      ],
      "cell_type": "code",
      "metadata": {
        "colab": {
          "base_uri": "https://localhost:8080/"
        },
        "id": "vsHDSND--nxZ",
        "outputId": "a0654284-1cb6-4dc7-d846-93e68f966822"
      },
      "execution_count": 160,
      "outputs": [
        {
          "output_type": "stream",
          "name": "stdout",
          "text": [
            "Sum of numbers: 3825\n",
            "Average of numbers: 75.0\n"
          ]
        }
      ]
    },
    {
      "cell_type": "markdown",
      "source": [
        "# Submission\n",
        "\n",
        "#### When you're done, you can download and submit:\n",
        "1. Click the \"File\" menu in the top left,\n",
        "2. Towards the bottom of the menu, press Download > Download .py\n",
        "3. Submit your .py file\n",
        "\n",
        "#### Or submit a link to your notebook:\n",
        "1. Click the \"Share\" button in the top right,\n",
        "2. Allow access to \"Anyone With The Link\"\n",
        "3. Copy the link into the submission page on Blackboard"
      ],
      "metadata": {
        "id": "mN-3r4UZTWYJ"
      }
    }
  ]
}